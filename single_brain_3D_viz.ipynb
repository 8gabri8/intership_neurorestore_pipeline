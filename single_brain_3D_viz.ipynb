{
 "cells": [
  {
   "cell_type": "markdown",
   "metadata": {},
   "source": [
    "# Single brain 3D Visualization\n",
    "\n",
    "This notebook demonstrates how to visualize the cell density of each Region of Interest (ROI) in the mouse brain, utilizing data extracted in the preceding steps of the pipeline.\n",
    "\n",
    "**Note**: the script is designed to run for one brain at a time. It is more exploraotry script than a generative one.\n",
    "\n",
    "The notebook is split in 2 halves:\n",
    "- In the first one \n",
    "\n",
    "### Instructions\n",
    "\n",
    "1. **Set Up Your Environment:**\n",
    "   To run this notebook, you need to create a virtual environment with the required packages. Follow these steps to set up your environment:\n",
    "\n",
    "   - **Create a Virtual Environment:**\n",
    "     Use the following command to create a virtual environment from the provided [brainrender-env.yml](assets/yml/brainrender-env.yml) file:\n",
    "     ```bash\n",
    "     conda env create -f brainrender-env.yml\n",
    "     ```\n",
    "\n",
    "   - **Activate the Environment:**\n",
    "     Once created, activate the environment using:\n",
    "     ```bash\n",
    "     conda activate brainrender-env\n",
    "     ```\n",
    "\n",
    "   - **Select the Kernel:**\n",
    "     After activating the environment, choose it as the kernel for the notebook. This ensures that all dependencies are correctly resolved when you run the notebook."
   ]
  },
  {
   "cell_type": "markdown",
   "metadata": {},
   "source": [
    "# Import Libraries"
   ]
  },
  {
   "cell_type": "code",
   "execution_count": 1,
   "metadata": {},
   "outputs": [],
   "source": [
    "import pandas as pd\n",
    "import numpy as np\n",
    "import glob\n",
    "from brainrender import Scene\n",
    "from brainrender.actors import Points\n",
    "import matplotlib.pyplot as plt\n",
    "import matplotlib.colors as mcolors\n",
    "from brainglobe_atlasapi import BrainGlobeAtlas\n",
    "from brainglobe_atlasapi import show_atlases\n",
    "import brainglobe_heatmap as bgh\n",
    "from brainrender import Scene, actors, cameras, settings\n"
   ]
  },
  {
   "cell_type": "markdown",
   "metadata": {},
   "source": [
    "# Half Brain"
   ]
  },
  {
   "cell_type": "markdown",
   "metadata": {},
   "source": [
    "### Mandatory Inputs"
   ]
  },
  {
   "cell_type": "code",
   "execution_count": 2,
   "metadata": {},
   "outputs": [],
   "source": [
    "# Path to the csv file containing the cell density for the selected brain\n",
    "csv_file = \"/run/user/1000/gvfs/smb-share:server=upcourtinenas,share=cervical/CERVICAL_ID/Connectome_analysis/Final_dataset/DR/Uninjured/602/_Measurements/whole_brain.csv\"\n",
    "\n",
    "# Side of the brain where to extarct data\n",
    "    # Even if both hemisphere will be displayed, the other one will contains the same values\n",
    "side = \"Left\" #right\n",
    "\n",
    "# Number of the first most dense roi to display\n",
    "    # ATTENTION: more ROI you use, more it is difficultu to render the scene in 3D\n",
    "    # we discourage plotting all the regions\n",
    "n_roi_displayed = 20 #first most dense roi to display\n",
    "\n",
    "#If normilze the color of the rendering\n",
    "    # we advise to do so, otherwhise all ROI will have same color\n",
    "normalize_color = True\n",
    "\n",
    "verbose = True\n"
   ]
  },
  {
   "cell_type": "markdown",
   "metadata": {},
   "source": [
    "### Prepare Data\n",
    "\n",
    "Here we will\n",
    "    - Choose which region to plot (only the first most dense)\n",
    "    - Scale the color used to render them (otherwise due to very low densities, they will bedisplayed all as white)"
   ]
  },
  {
   "cell_type": "code",
   "execution_count": 3,
   "metadata": {},
   "outputs": [
    {
     "name": "stdout",
     "output_type": "stream",
     "text": [
      "{'LDT': '#67000d', 'DR': '#e43027', 'IF': '#e63328', 'MMd': '#ea362a', 'PN': '#f44f39', 'SG': '#f44f39', 'PCG': '#fa6648', 'VI': '#fb7656', 'IPL': '#fb7c5c', 'AT': '#fc8666', 'IPDL': '#fc9d7f', 'VTN': '#fca183', 'pm': '#fca285', 'IPRL': '#fcaa8d', 'IPA': '#fcbda4', 'RM': '#fee5d9', 'IV': '#fee5d9', 'VTA': '#feeae1', 'PDTg': '#fff3ed', 'IPDM': '#fff5f0'}\n",
      "{'LDT': (0.403921568627451, 0.0, 0.05098039215686274, 1.0), 'DR': (0.8946251441753171, 0.18992695117262592, 0.15478662053056516, 1.0), 'IF': (0.9034832756632064, 0.19853902345251828, 0.15847750865051902, 1.0), 'MMd': (0.9167704728950405, 0.21145713187235693, 0.16401384083044987, 1.0), 'PN': (0.9570011534025374, 0.3087120338331411, 0.22191464821222606, 1.0), 'SG': (0.9570011534025374, 0.3087120338331411, 0.22191464821222606, 1.0), 'PCG': (0.9806228373702421, 0.40123029603998467, 0.2809688581314879, 1.0), 'VI': (0.9854825067281815, 0.46243752402921956, 0.3369473279507882, 1.0), 'IPL': (0.9860976547481738, 0.48704344482891193, 0.3615532487504806, 1.0), 'AT': (0.9870818915801615, 0.5264129181084198, 0.40092272202998847, 1.0), 'IPDL': (0.9882352941176471, 0.6160553633217993, 0.4969319492502884, 1.0), 'VTN': (0.9882352941176471, 0.6311880046136101, 0.5142791234140716, 1.0), 'pm': (0.9882352941176471, 0.6362322183775471, 0.5200615148019992, 1.0), 'IPRL': (0.9882352941176471, 0.6664975009611688, 0.5547558631295655, 1.0), 'IPA': (0.9886658977316417, 0.7412995001922337, 0.641922337562476, 1.0), 'RM': (0.9970472895040369, 0.8987773933102653, 0.8525951557093425, 1.0), 'IV': (0.9970472895040369, 0.8987773933102653, 0.8525951557093425, 1.0), 'VTA': (0.9980315263360247, 0.919446366782007, 0.8821222606689735, 1.0), 'PDTg': (0.9996309111880046, 0.9530334486735871, 0.9301038062283737, 1.0), 'IPDM': (1.0, 0.9607843137254902, 0.9411764705882353, 1.0)}\n"
     ]
    }
   ],
   "source": [
    "# Read csv file\n",
    "df = pd.read_csv(csv_file)\n",
    "\n",
    "# Take the ROI only from one side\n",
    "df = df[df[\"Side\"] == side]\n",
    "\n",
    "# Take only first most dense regions\n",
    "df = df.sort_values(by='Cell Density', ascending=False)\n",
    "df = df.iloc[:n_roi_displayed, :] #take first elements\n",
    "\n",
    "# Create the dictionary --> NB take the name withounf left or right\n",
    "cell_density_data = dict(zip(df['Region'], df['Cell Density']))\n",
    "    #cell_density_data = {\"VISp\": 50,\"CA1\": 30,\"M1\": 65,\"S1\": 90,\"SCop\":100}\n",
    "\n",
    "if normalize_color:\n",
    "    # Normalize cell density values to range [0, 1]\n",
    "    def normalize(value, min_value, max_value):\n",
    "        return (value - min_value) / (max_value - min_value)\n",
    "    min_density = min(cell_density_data.values())\n",
    "    max_density = max(cell_density_data.values())\n",
    "    normalized_densities = {region: normalize(density, min_density, max_density) for region, density in cell_density_data.items()}\n",
    "\n",
    "    # Create a colormap using matplotlib\n",
    "    cmap = plt.get_cmap('Reds')  # You can choose other colormaps like 'plasma', 'inferno', etc.\n",
    "    norm = mcolors.Normalize(vmin=0, vmax=1)\n",
    "\n",
    "    # Map normalized densities to colors\n",
    "    colors = {region: mcolors.to_hex(cmap(norm(density))) for region, density in normalized_densities.items()}\n",
    "\n",
    "    # Colors in rgb triplets\n",
    "    rgb_colors = {region: cmap(norm(density)) for region, density in normalized_densities.items()} \n",
    "else:\n",
    "    colors = cell_density_data\n",
    "    rgb_colors = {region: cmap(density) for region, density in colors.items()}\n",
    "\n",
    "print(colors)\n",
    "print(rgb_colors)\n"
   ]
  },
  {
   "cell_type": "markdown",
   "metadata": {},
   "source": [
    "### Plot the color to be used for rendering"
   ]
  },
  {
   "cell_type": "code",
   "execution_count": 4,
   "metadata": {},
   "outputs": [
    {
     "data": {
      "text/html": [
       "<pre style=\"white-space:pre;overflow-x:auto;line-height:normal;font-family:Menlo,'DejaVu Sans Mono',consolas,'Courier New',monospace\"></pre>\n"
      ],
      "text/plain": []
     },
     "metadata": {},
     "output_type": "display_data"
    },
    {
     "data": {
      "image/png": "[encoded data removed]",
      "text/plain": [
       "\u001b[1m<\u001b[0m\u001b[1;95mFigure\u001b[0m\u001b[39m size 20\u001b[0m\u001b[1;36m0x1000\u001b[0m\u001b[39m with \u001b[0m\u001b[1;36m1\u001b[0m\u001b[39m Axes\u001b[0m\u001b[1m>\u001b[0m"
      ]
     },
     "metadata": {},
     "output_type": "display_data"
    }
   ],
   "source": [
    "# Plot the colors\n",
    "fig, ax = plt.subplots(figsize=(2,10))  # Adjust the size as needed\n",
    "\n",
    "# Create a list of color names and their corresponding colors\n",
    "regions = list(colors.keys())\n",
    "color_values = list(color for color in rgb_colors.values())\n",
    "\n",
    "# Create a bar plot to show the colors\n",
    "for i, (region, color) in enumerate(rgb_colors.items()):\n",
    "    ax.barh(i, 1, color=color, edgecolor='black')\n",
    "    ax.text(1.02, i, region, va='center', ha='left')\n",
    "\n",
    "# Remove axes and labels for better visualization\n",
    "ax.set_xlim(0, 1.2)\n",
    "ax.set_yticks([])\n",
    "ax.set_xticks([])\n",
    "ax.set_title('Color Mapping')\n",
    "\n",
    "plt.show()"
   ]
  },
  {
   "cell_type": "markdown",
   "metadata": {},
   "source": [
    "### Choose Atlas\n",
    "Check here atlas available: [link](https://brainglobe.info/documentation/brainglobe-atlasapi/index.html)"
   ]
  },
  {
   "cell_type": "code",
   "execution_count": 8,
   "metadata": {},
   "outputs": [
    {
     "data": {
      "text/html": [
       "<pre style=\"white-space:pre;overflow-x:auto;line-height:normal;font-family:Menlo,'DejaVu Sans Mono',consolas,'Courier New',monospace\">╭───────────────────────────────── Brainglobe Atlases ─────────────────────────────────╮\n",
       "│ <span style=\"color: #008000; text-decoration-color: #008000; font-weight: bold\">                                                                          Latest    </span> │\n",
       "│ <span style=\"color: #008000; text-decoration-color: #008000; font-weight: bold\"> Name                              Downloaded  Updated  Local version    version    </span> │\n",
       "│  <span style=\"font-weight: bold\">kim_mouse_100um</span>                       <span style=\"color: #008000; text-decoration-color: #008000\">✔</span>          <span style=\"color: #008000; text-decoration-color: #008000\">✔</span>          <span style=\"color: #c4c4c4; text-decoration-color: #c4c4c4\">1.1</span>           <span style=\"color: #c4c4c4; text-decoration-color: #c4c4c4\">1.1</span>       │\n",
       "│  <span style=\"font-weight: bold\">allen_mouse_25um</span>                      <span style=\"color: #008000; text-decoration-color: #008000\">✔</span>          <span style=\"color: #008000; text-decoration-color: #008000\">✔</span>          <span style=\"color: #c4c4c4; text-decoration-color: #c4c4c4\">1.2</span>           <span style=\"color: #c4c4c4; text-decoration-color: #c4c4c4\">1.2</span>       │\n",
       "│  <span style=\"font-weight: bold\">allen_mouse_50um</span>                      <span style=\"color: #008000; text-decoration-color: #008000\">✔</span>          <span style=\"color: #008000; text-decoration-color: #008000\">✔</span>          <span style=\"color: #c4c4c4; text-decoration-color: #c4c4c4\">1.2</span>           <span style=\"color: #c4c4c4; text-decoration-color: #c4c4c4\">1.2</span>       │\n",
       "│  <span style=\"font-weight: bold\">example_mouse_100um</span>                                                       <span style=\"color: #c4c4c4; text-decoration-color: #c4c4c4\">1.2</span>       │\n",
       "│  <span style=\"font-weight: bold\">allen_mouse_10um</span>                                                          <span style=\"color: #c4c4c4; text-decoration-color: #c4c4c4\">1.2</span>       │\n",
       "│  <span style=\"font-weight: bold\">allen_mouse_100um</span>                                                         <span style=\"color: #c4c4c4; text-decoration-color: #c4c4c4\">1.2</span>       │\n",
       "│  <span style=\"font-weight: bold\">mpin_zfish_1um</span>                                                            <span style=\"color: #c4c4c4; text-decoration-color: #c4c4c4\">1.0</span>       │\n",
       "│  <span style=\"font-weight: bold\">allen_human_500um</span>                                                         <span style=\"color: #c4c4c4; text-decoration-color: #c4c4c4\">1.0</span>       │\n",
       "│  <span style=\"font-weight: bold\">kim_mouse_10um</span>                                                            <span style=\"color: #c4c4c4; text-decoration-color: #c4c4c4\">1.1</span>       │\n",
       "│  <span style=\"font-weight: bold\">kim_mouse_25um</span>                                                            <span style=\"color: #c4c4c4; text-decoration-color: #c4c4c4\">1.1</span>       │\n",
       "│  <span style=\"font-weight: bold\">kim_mouse_50um</span>                                                            <span style=\"color: #c4c4c4; text-decoration-color: #c4c4c4\">1.1</span>       │\n",
       "│  <span style=\"font-weight: bold\">osten_mouse_10um</span>                                                          <span style=\"color: #c4c4c4; text-decoration-color: #c4c4c4\">1.1</span>       │\n",
       "│  <span style=\"font-weight: bold\">osten_mouse_25um</span>                                                          <span style=\"color: #c4c4c4; text-decoration-color: #c4c4c4\">1.1</span>       │\n",
       "│  <span style=\"font-weight: bold\">osten_mouse_50um</span>                                                          <span style=\"color: #c4c4c4; text-decoration-color: #c4c4c4\">1.1</span>       │\n",
       "│  <span style=\"font-weight: bold\">osten_mouse_100um</span>                                                         <span style=\"color: #c4c4c4; text-decoration-color: #c4c4c4\">1.1</span>       │\n",
       "│  <span style=\"font-weight: bold\">allen_cord_20um</span>                                                           <span style=\"color: #c4c4c4; text-decoration-color: #c4c4c4\">1.1</span>       │\n",
       "│  <span style=\"font-weight: bold\">azba_zfish_4um</span>                                                            <span style=\"color: #c4c4c4; text-decoration-color: #c4c4c4\">1.2</span>       │\n",
       "│  <span style=\"font-weight: bold\">whs_sd_rat_39um</span>                                                           <span style=\"color: #c4c4c4; text-decoration-color: #c4c4c4\">1.1</span>       │\n",
       "│  <span style=\"font-weight: bold\">perens_lsfm_mouse_20um</span>                                                    <span style=\"color: #c4c4c4; text-decoration-color: #c4c4c4\">1.2</span>       │\n",
       "│  <span style=\"font-weight: bold\">admba_3d_e11_5_mouse_16um</span>                                                 <span style=\"color: #c4c4c4; text-decoration-color: #c4c4c4\">1.1</span>       │\n",
       "│  <span style=\"font-weight: bold\">admba_3d_e13_5_mouse_16um</span>                                                 <span style=\"color: #c4c4c4; text-decoration-color: #c4c4c4\">1.1</span>       │\n",
       "│  <span style=\"font-weight: bold\">admba_3d_e15_5_mouse_16um</span>                                                 <span style=\"color: #c4c4c4; text-decoration-color: #c4c4c4\">1.1</span>       │\n",
       "│  <span style=\"font-weight: bold\">admba_3d_e18_5_mouse_16um</span>                                                 <span style=\"color: #c4c4c4; text-decoration-color: #c4c4c4\">1.1</span>       │\n",
       "│  <span style=\"font-weight: bold\">admba_3d_p4_mouse_16.752um</span>                                                <span style=\"color: #c4c4c4; text-decoration-color: #c4c4c4\">1.1</span>       │\n",
       "│  <span style=\"font-weight: bold\">admba_3d_p14_mouse_16.752um</span>                                               <span style=\"color: #c4c4c4; text-decoration-color: #c4c4c4\">1.1</span>       │\n",
       "│  <span style=\"font-weight: bold\">admba_3d_p28_mouse_16.752um</span>                                               <span style=\"color: #c4c4c4; text-decoration-color: #c4c4c4\">1.1</span>       │\n",
       "│  <span style=\"font-weight: bold\">admba_3d_p56_mouse_25um</span>                                                   <span style=\"color: #c4c4c4; text-decoration-color: #c4c4c4\">1.1</span>       │\n",
       "│  <span style=\"font-weight: bold\">princeton_mouse_20um</span>                                                      <span style=\"color: #c4c4c4; text-decoration-color: #c4c4c4\">1.1</span>       │\n",
       "│  <span style=\"font-weight: bold\">kim_dev_mouse_stp_10um</span>                                                    <span style=\"color: #c4c4c4; text-decoration-color: #c4c4c4\">1.2</span>       │\n",
       "│  <span style=\"font-weight: bold\">kim_dev_mouse_idisco_10um</span>                                                 <span style=\"color: #c4c4c4; text-decoration-color: #c4c4c4\">1.2</span>       │\n",
       "│  <span style=\"font-weight: bold\">kim_dev_mouse_mri_a0_10um</span>                                                 <span style=\"color: #c4c4c4; text-decoration-color: #c4c4c4\">1.2</span>       │\n",
       "│  <span style=\"font-weight: bold\">kim_dev_mouse_mri_adc_10um</span>                                                <span style=\"color: #c4c4c4; text-decoration-color: #c4c4c4\">1.2</span>       │\n",
       "│  <span style=\"font-weight: bold\">kim_dev_mouse_mri_dwi_10um</span>                                                <span style=\"color: #c4c4c4; text-decoration-color: #c4c4c4\">1.2</span>       │\n",
       "│  <span style=\"font-weight: bold\">kim_dev_mouse_mri_fa_10um</span>                                                 <span style=\"color: #c4c4c4; text-decoration-color: #c4c4c4\">1.2</span>       │\n",
       "│  <span style=\"font-weight: bold\">kim_dev_mouse_mri_mtr_10um</span>                                                <span style=\"color: #c4c4c4; text-decoration-color: #c4c4c4\">1.2</span>       │\n",
       "│  <span style=\"font-weight: bold\">kim_dev_mouse_mri_t2_10um</span>                                                 <span style=\"color: #c4c4c4; text-decoration-color: #c4c4c4\">1.2</span>       │\n",
       "│  <span style=\"font-weight: bold\">sju_cavefish_2um</span>                                                          <span style=\"color: #c4c4c4; text-decoration-color: #c4c4c4\">1.0</span>       │\n",
       "│  <span style=\"font-weight: bold\">allen_mouse_bluebrain_barrels_1…</span>                                          <span style=\"color: #c4c4c4; text-decoration-color: #c4c4c4\">1.0</span>       │\n",
       "│  <span style=\"font-weight: bold\">allen_mouse_bluebrain_barrels_2…</span>                                          <span style=\"color: #c4c4c4; text-decoration-color: #c4c4c4\">1.0</span>       │\n",
       "│  <span style=\"font-weight: bold\">oldenburg_blackcap_25um</span>                                                   <span style=\"color: #c4c4c4; text-decoration-color: #c4c4c4\">0.1</span>       │\n",
       "╰──────────────────────────────────────────────────────────────────────────────────────╯\n",
       "</pre>\n"
      ],
      "text/plain": [
       "╭───────────────────────────────── Brainglobe Atlases ─────────────────────────────────╮\n",
       "│ \u001b[1;32m                                  \u001b[0m\u001b[1;32m            \u001b[0m\u001b[1;32m         \u001b[0m\u001b[1;32m               \u001b[0m\u001b[1;32m \u001b[0m\u001b[1;32m   Latest   \u001b[0m\u001b[1;32m \u001b[0m │\n",
       "│ \u001b[1;32m \u001b[0m\u001b[1;32mName                            \u001b[0m\u001b[1;32m \u001b[0m\u001b[1;32m \u001b[0m\u001b[1;32mDownloaded\u001b[0m\u001b[1;32m \u001b[0m\u001b[1;32m \u001b[0m\u001b[1;32mUpdated\u001b[0m\u001b[1;32m \u001b[0m\u001b[1;32m \u001b[0m\u001b[1;32mLocal version\u001b[0m\u001b[1;32m \u001b[0m\u001b[1;32m \u001b[0m\u001b[1;32m  version   \u001b[0m\u001b[1;32m \u001b[0m │\n",
       "│  \u001b[1mkim_mouse_100um\u001b[0m                       \u001b[32m✔\u001b[0m          \u001b[32m✔\u001b[0m          \u001b[38;2;196;196;196m1.1\u001b[0m           \u001b[38;2;196;196;196m1.1\u001b[0m       │\n",
       "│  \u001b[1mallen_mouse_25um\u001b[0m                      \u001b[32m✔\u001b[0m          \u001b[32m✔\u001b[0m          \u001b[38;2;196;196;196m1.2\u001b[0m           \u001b[38;2;196;196;196m1.2\u001b[0m       │\n",
       "│  \u001b[1mallen_mouse_50um\u001b[0m                      \u001b[32m✔\u001b[0m          \u001b[32m✔\u001b[0m          \u001b[38;2;196;196;196m1.2\u001b[0m           \u001b[38;2;196;196;196m1.2\u001b[0m       │\n",
       "│  \u001b[1mexample_mouse_100um\u001b[0m                                                       \u001b[38;2;196;196;196m1.2\u001b[0m       │\n",
       "│  \u001b[1mallen_mouse_10um\u001b[0m                                                          \u001b[38;2;196;196;196m1.2\u001b[0m       │\n",
       "│  \u001b[1mallen_mouse_100um\u001b[0m                                                         \u001b[38;2;196;196;196m1.2\u001b[0m       │\n",
       "│  \u001b[1mmpin_zfish_1um\u001b[0m                                                            \u001b[38;2;196;196;196m1.0\u001b[0m       │\n",
       "│  \u001b[1mallen_human_500um\u001b[0m                                                         \u001b[38;2;196;196;196m1.0\u001b[0m       │\n",
       "│  \u001b[1mkim_mouse_10um\u001b[0m                                                            \u001b[38;2;196;196;196m1.1\u001b[0m       │\n",
       "│  \u001b[1mkim_mouse_25um\u001b[0m                                                            \u001b[38;2;196;196;196m1.1\u001b[0m       │\n",
       "│  \u001b[1mkim_mouse_50um\u001b[0m                                                            \u001b[38;2;196;196;196m1.1\u001b[0m       │\n",
       "│  \u001b[1mosten_mouse_10um\u001b[0m                                                          \u001b[38;2;196;196;196m1.1\u001b[0m       │\n",
       "│  \u001b[1mosten_mouse_25um\u001b[0m                                                          \u001b[38;2;196;196;196m1.1\u001b[0m       │\n",
       "│  \u001b[1mosten_mouse_50um\u001b[0m                                                          \u001b[38;2;196;196;196m1.1\u001b[0m       │\n",
       "│  \u001b[1mosten_mouse_100um\u001b[0m                                                         \u001b[38;2;196;196;196m1.1\u001b[0m       │\n",
       "│  \u001b[1mallen_cord_20um\u001b[0m                                                           \u001b[38;2;196;196;196m1.1\u001b[0m       │\n",
       "│  \u001b[1mazba_zfish_4um\u001b[0m                                                            \u001b[38;2;196;196;196m1.2\u001b[0m       │\n",
       "│  \u001b[1mwhs_sd_rat_39um\u001b[0m                                                           \u001b[38;2;196;196;196m1.1\u001b[0m       │\n",
       "│  \u001b[1mperens_lsfm_mouse_20um\u001b[0m                                                    \u001b[38;2;196;196;196m1.2\u001b[0m       │\n",
       "│  \u001b[1madmba_3d_e11_5_mouse_16um\u001b[0m                                                 \u001b[38;2;196;196;196m1.1\u001b[0m       │\n",
       "│  \u001b[1madmba_3d_e13_5_mouse_16um\u001b[0m                                                 \u001b[38;2;196;196;196m1.1\u001b[0m       │\n",
       "│  \u001b[1madmba_3d_e15_5_mouse_16um\u001b[0m                                                 \u001b[38;2;196;196;196m1.1\u001b[0m       │\n",
       "│  \u001b[1madmba_3d_e18_5_mouse_16um\u001b[0m                                                 \u001b[38;2;196;196;196m1.1\u001b[0m       │\n",
       "│  \u001b[1madmba_3d_p4_mouse_16.752um\u001b[0m                                                \u001b[38;2;196;196;196m1.1\u001b[0m       │\n",
       "│  \u001b[1madmba_3d_p14_mouse_16.752um\u001b[0m                                               \u001b[38;2;196;196;196m1.1\u001b[0m       │\n",
       "│  \u001b[1madmba_3d_p28_mouse_16.752um\u001b[0m                                               \u001b[38;2;196;196;196m1.1\u001b[0m       │\n",
       "│  \u001b[1madmba_3d_p56_mouse_25um\u001b[0m                                                   \u001b[38;2;196;196;196m1.1\u001b[0m       │\n",
       "│  \u001b[1mprinceton_mouse_20um\u001b[0m                                                      \u001b[38;2;196;196;196m1.1\u001b[0m       │\n",
       "│  \u001b[1mkim_dev_mouse_stp_10um\u001b[0m                                                    \u001b[38;2;196;196;196m1.2\u001b[0m       │\n",
       "│  \u001b[1mkim_dev_mouse_idisco_10um\u001b[0m                                                 \u001b[38;2;196;196;196m1.2\u001b[0m       │\n",
       "│  \u001b[1mkim_dev_mouse_mri_a0_10um\u001b[0m                                                 \u001b[38;2;196;196;196m1.2\u001b[0m       │\n",
       "│  \u001b[1mkim_dev_mouse_mri_adc_10um\u001b[0m                                                \u001b[38;2;196;196;196m1.2\u001b[0m       │\n",
       "│  \u001b[1mkim_dev_mouse_mri_dwi_10um\u001b[0m                                                \u001b[38;2;196;196;196m1.2\u001b[0m       │\n",
       "│  \u001b[1mkim_dev_mouse_mri_fa_10um\u001b[0m                                                 \u001b[38;2;196;196;196m1.2\u001b[0m       │\n",
       "│  \u001b[1mkim_dev_mouse_mri_mtr_10um\u001b[0m                                                \u001b[38;2;196;196;196m1.2\u001b[0m       │\n",
       "│  \u001b[1mkim_dev_mouse_mri_t2_10um\u001b[0m                                                 \u001b[38;2;196;196;196m1.2\u001b[0m       │\n",
       "│  \u001b[1msju_cavefish_2um\u001b[0m                                                          \u001b[38;2;196;196;196m1.0\u001b[0m       │\n",
       "│  \u001b[1mallen_mouse_bluebrain_barrels_1…\u001b[0m                                          \u001b[38;2;196;196;196m1.0\u001b[0m       │\n",
       "│  \u001b[1mallen_mouse_bluebrain_barrels_2…\u001b[0m                                          \u001b[38;2;196;196;196m1.0\u001b[0m       │\n",
       "│  \u001b[1moldenburg_blackcap_25um\u001b[0m                                                   \u001b[38;2;196;196;196m0.1\u001b[0m       │\n",
       "╰──────────────────────────────────────────────────────────────────────────────────────╯\n"
      ]
     },
     "metadata": {},
     "output_type": "display_data"
    }
   ],
   "source": [
    "# SHow all atlases supported by brainrender\n",
    "show_atlases()\n",
    "\n",
    "# Select an atlas\n",
    "bg_atlas = BrainGlobeAtlas(\"allen_mouse_50um\", check_latest=False)\n",
    "\n",
    "# Show atlas choosen\n",
    "#print(bg_atlas)\n",
    "\n",
    "# List all brain regions in the atlas\n",
    "#print(bg_atlas.lookup_df)"
   ]
  },
  {
   "cell_type": "markdown",
   "metadata": {},
   "source": [
    "### Visualize"
   ]
  },
  {
   "cell_type": "markdown",
   "metadata": {},
   "source": [
    "#### With only BrainRender - Only one Hemisphere"
   ]
  },
  {
   "cell_type": "code",
   "execution_count": 6,
   "metadata": {},
   "outputs": [],
   "source": [
    "# Necessary for running in jupyternotebook\n",
    "import vedo\n",
    "vedo.settings.default_backend= 'vtk'\n",
    "\n",
    "# Display the Allen Brain mouse atlas.\n",
    "scene = Scene(atlas_name=\"allen_mouse_50um\", title=\"Cells Density in differnt brain regions\")\n",
    "\n",
    "# Add each brain region with the corresponding color\n",
    "for region, color in colors.items():\n",
    "    scene.add_brain_region(region, alpha=0.7, color=color)\n",
    "\n",
    "# Add label to the brain region\n",
    "#scene.add_label(primary_visual, \"Primary visual cortex\")\n",
    "\n",
    "# Display the figure.\n",
    "scene.render()"
   ]
  },
  {
   "cell_type": "markdown",
   "metadata": {},
   "source": [
    "#### With Napari - Only one Hemisphere"
   ]
  },
  {
   "cell_type": "code",
   "execution_count": 7,
   "metadata": {},
   "outputs": [
    {
     "name": "stderr",
     "output_type": "stream",
     "text": [
      "WARNING: QSocketNotifier: Can only be used with threads started with QThread\n",
      "/home/gabri/mambaforge/envs/brainrender-env/lib/python3.9/site-packages/brainrender_napari/napari_atlas_representation.py:24: FutureWarning: Public access to Window.qt_viewer is deprecated and will be removed in\n",
      "v0.6.0. It is considered an \"implementation detail\" of the napari\n",
      "application, not part of the napari viewer model. If your use case\n",
      "requires access to qt_viewer, please open an issue to discuss.\n",
      "  self._tooltip = QLabel(self.viewer.window.qt_viewer.parent())\n"
     ]
    },
    {
     "name": "stdout",
     "output_type": "stream",
     "text": [
      "Renderinf region LDT...\n",
      "Renderinf region DR...\n",
      "Renderinf region IF...\n",
      "Renderinf region MMd...\n",
      "Renderinf region PN...\n",
      "Renderinf region SG...\n",
      "Renderinf region PCG...\n",
      "Renderinf region VI...\n",
      "Renderinf region IPL...\n",
      "Renderinf region AT...\n",
      "Renderinf region IPDL...\n",
      "Renderinf region VTN...\n",
      "Renderinf region pm...\n",
      "Renderinf region IPRL...\n",
      "Renderinf region IPA...\n",
      "Renderinf region RM...\n",
      "Renderinf region IV...\n",
      "Renderinf region VTA...\n",
      "Renderinf region PDTg...\n",
      "Renderinf region IPDM...\n"
     ]
    }
   ],
   "source": [
    "from brainrender_napari.napari_atlas_representation import NapariAtlasRepresentation\n",
    "from brainglobe_atlasapi import BrainGlobeAtlas\n",
    "import napari\n",
    "\n",
    "\n",
    "viewer = napari.Viewer()\n",
    "viewer.dims.ndisplay = 3\n",
    "# replace \"mpin_zfish_1um\" with atlas of interest below\n",
    "napari_atlas = NapariAtlasRepresentation(bg_atlas, viewer)\n",
    "napari_atlas.add_to_viewer()\n",
    "\n",
    "# Change who is shown\n",
    "layer = viewer.layers[\"allen_mouse_50um_annotation\"]\n",
    "layer.visible = False\n",
    "layer = viewer.layers[\"allen_mouse_50um_reference\"]\n",
    "layer.visible = True\n",
    "\n",
    "\n",
    "for region, color in rgb_colors.items(): #Attention: here colors are rgb\n",
    "\n",
    "    if not (region in bg_atlas.lookup_df[\"acronym\"].to_list()):\n",
    "        print(f\"Region {region} not present in the atlas.\")\n",
    "        continue\n",
    "\n",
    "    print(f\"Renderinf region {region}...\")\n",
    "\n",
    "    # Add region as mesh\n",
    "    napari_atlas.add_structure_to_viewer(region)\n",
    "\n",
    "    #Change name mesh just added (it is a layer in napari)\n",
    "    viewer.layers[-1].name = region\n",
    "\n",
    "    #Change color mesh\n",
    "    surface_layer = viewer.layers[-1] # get the vertex layer\n",
    "    n_vertices = len(surface_layer.vertex_colors) # find number of vertices in the surface layer\n",
    "    surface_layer.vertex_colors = np.repeat([color], n_vertices, axis=0) # make the surface layer red (1, 0, 0)\n",
    "\n",
    "\n",
    "napari.run()"
   ]
  },
  {
   "cell_type": "markdown",
   "metadata": {},
   "source": [
    "# Whole brain\n",
    "\n",
    "Here we:\n",
    "- Disply in 3D a brain where the 2 hemisphres have different values\n",
    "\n",
    "**Render Setting**: please play  with the render setting in this notebook cell to achieve the visual aesthetic that you most prefer.\n",
    "    \n",
    "**ATTENTION**: it cannot handle too many regions!!!, so it is only possbile to plot a subset of them."
   ]
  },
  {
   "cell_type": "markdown",
   "metadata": {},
   "source": [
    "## Easy way"
   ]
  },
  {
   "cell_type": "code",
   "execution_count": 7,
   "metadata": {},
   "outputs": [
    {
     "name": "stdout",
     "output_type": "stream",
     "text": [
      "['PF', 'PIL', 'LC', 'MEV', 'CEAm', 'VPL', 'LT', 'VPM', 'STN', 'nst', 'PP', 'MGm', 'CEAl', 'AMBd', 'RT', 'em', 'CEAc', 'GPe', 'CUN', 'SNc']\n",
      "{'CEAc': 0.0001312545610959, 'CEAl': 0.0001743648759393, 'CEAm': 0.0002715692161026, 'GPe': 7.05590419269081e-05, 'VPL': 7.47428112119118e-05, 'VPM': 7.342636453720196e-05, 'PP': 6.583261136902866e-05, 'MGm': 0.0002019073291698, 'PF': 0.0003993280870882, 'PIL': 0.0002754630507896, 'RT': 0.000112989300345, 'STN': 7.278879764228997e-05, 'MEV': 0.0004288992301258, 'CUN': 0.0004789635523474, 'LT': 0.0, 'SNc': 0.0001690553459935, 'LC': 0.0004219765381044, 'AMBd': 0.006704058315865, 'em': 0.0001787767271207, 'nst': 0.0001399552376498}\n",
      "{'CEAc': 0.0063940644648427, 'CEAl': 0.0069992447326614, 'CEAm': 0.009085624809745, 'GPe': 0.0063712807807439, 'VPL': 0.0086062118750641, 'VPM': 0.0084930246953616, 'PP': 0.0074408513642242, 'MGm': 0.007417862442911, 'PF': 0.0177462192600403, 'PIL': 0.0155376692398071, 'RT': 0.0065410274410622, 'STN': 0.0082926274266052, 'MEV': 0.0119650449757494, 'CUN': 0.0062310006188208, 'LT': 0.0085336367515289, 'SNc': 0.0061843133366935, 'LC': 0.0125906956892872, 'AMBd': 0.0004617409171713, 'em': 0.0065094749023578, 'nst': 0.0078317721540823}\n",
      "{'CEAc': '#fff4ef', 'CEAl': '#fff4ee', 'CEAm': '#fff3ed', 'GPe': '#fff4ef', 'VPL': '#fff4ef', 'VPM': '#fff4ef', 'PP': '#fff5f0', 'MGm': '#fff4ee', 'PF': '#fff2eb', 'PIL': '#fff3ed', 'RT': '#fff4ef', 'STN': '#fff4ef', 'MEV': '#fff1ea', 'CUN': '#fff1ea', 'LT': '#fff5f0', 'SNc': '#fff4ee', 'LC': '#fff1ea', 'AMBd': '#fc9272', 'em': '#fff4ee', 'nst': '#fff4ee'}\n",
      "{'CEAc': '#fc9777', 'CEAl': '#fc8d6d', 'CEAm': '#fa6547', 'GPe': '#fc9879', 'VPL': '#fb6e4e', 'VPM': '#fb7151', 'PP': '#fc8464', 'MGm': '#fc8464', 'PF': '#67000d', 'PIL': '#a30f15', 'RT': '#fc9474', 'STN': '#fb7555', 'MEV': '#e12d26', 'CUN': '#fc9b7c', 'LT': '#fb7050', 'SNc': '#fc9b7c', 'LC': '#d72322', 'AMBd': '#fff1ea', 'em': '#fc9576', 'nst': '#fb7d5d'}\n"
     ]
    }
   ],
   "source": [
    "import pandas as pd\n",
    "import numpy as np\n",
    "import glob\n",
    "from brainrender import Scene\n",
    "from brainrender.actors import Points\n",
    "import matplotlib.pyplot as plt\n",
    "import matplotlib.colors as mcolors\n",
    "from brainglobe_atlasapi import BrainGlobeAtlas\n",
    "from brainglobe_atlasapi import show_atlases\n",
    "import brainglobe_heatmap as bgh\n",
    "from brainrender import Scene, actors, cameras, settings\n",
    "\n",
    "\n",
    "# MANDATORY INPUTS\n",
    "csv_file = \"/run/user/1000/gvfs/smb-share:server=upcourtinenas,share=cervical/CERVICAL_ID/Connectome_analysis/Final_dataset/GPe/Uninjured/583/_Measurements/whole_brain.csv\"\n",
    "image_dir = \"\" #folder where to save images\n",
    "side = \"Left\" #right\n",
    "n_roi_displayed = 20 #first most dense roi to display\n",
    "verbose = True\n",
    "normalize = False\n",
    "\n",
    "\n",
    "#####################################\n",
    "### Necessary for running in jupyter\n",
    "import vedo\n",
    "vedo.settings.default_backend= 'vtk'\n",
    "\n",
    "#####################################\n",
    "### Decide which region to plot\n",
    "\n",
    "# We decide to take the first n_roi_displayed more dense independenly of left or right, and then take also the contalater part\n",
    "df = pd.read_csv(csv_file)\n",
    "df_sorted = df.sort_values(by='Cell Density', ascending=False)\n",
    "df_sorted_max = df_sorted.iloc[:n_roi_displayed, :] #take first elements\n",
    "name_max_regions = df_sorted_max[\"Region\"].to_list()\n",
    "print(name_max_regions)\n",
    "\n",
    "#####################################\n",
    "### choose Atlas\n",
    "bg_atlas = BrainGlobeAtlas(\"allen_mouse_25um\", check_latest=False)\n",
    "\n",
    "#####################################\n",
    "### Ectract the density of the regions decided in the cell above\n",
    "\n",
    "df = pd.read_csv(csv_file)\n",
    "# Take the ROI only from one side\n",
    "df = df[df[\"Side\"] == \"Left\"]\n",
    "# Take only first most dense regions\n",
    "df = df[df[\"Region\"].isin(name_max_regions)]\n",
    "# Only the ROI that are presnet in the atlas otherwise we will have errors\n",
    "df = df[df['Region'].isin(bg_atlas.lookup_df[\"acronym\"].to_list())] #take only regions that are in the atlas\n",
    "# Create the dictionary --> NB take the name withounf left or right\n",
    "cell_density_data = dict(zip(df['Region'], df['Cell Density']))\n",
    "cell_density_data_left = cell_density_data\n",
    "\n",
    "df = pd.read_csv(csv_file)\n",
    "# Take the ROI only from one side\n",
    "df = df[df[\"Side\"] == \"Right\"]\n",
    "# Take only first most dense regions\n",
    "df = df[df[\"Region\"].isin(name_max_regions)]\n",
    "# Only the ROI that are presnet in the atlas otherwise we will have errors\n",
    "df = df[df['Region'].isin(bg_atlas.lookup_df[\"acronym\"].to_list())] #take only regions that are in the atlas\n",
    "# Create the dictionary --> NB take the name withounf left or right\n",
    "cell_density_data = dict(zip(df['Region'], df['Cell Density']))\n",
    "cell_density_data_right = cell_density_data\n",
    "\n",
    "print(cell_density_data_left)\n",
    "print(cell_density_data_right)\n",
    "\n",
    "#####################################\n",
    "### create colors\n",
    "\n",
    "# Normalize cell density values to range [0, 1]\n",
    "def normalize(value, min_value, max_value):\n",
    "    return (value - min_value) / (max_value - min_value)\n",
    "\n",
    "if normalize_color:\n",
    "    array_left = np.array(list(cell_density_data_left.values()))\n",
    "    array_right = np.array(list(cell_density_data_right.values()))\n",
    "    all_densities = np.concatenate((array_left, array_right))\n",
    "    min_density = all_densities.min()\n",
    "    max_density = all_densities.max()\n",
    "    normalized_densities_left = {region: normalize(density, min_density, max_density) for region, density in cell_density_data_left.items()}\n",
    "    normalized_densities_right = {region: normalize(density, min_density, max_density) for region, density in cell_density_data_right.items()}\n",
    "\n",
    "    # Create a colormap using matplotlib\n",
    "    cmap = plt.get_cmap('Reds')  # You can choose other colormaps like 'plasma', 'inferno', etc.\n",
    "    norm = mcolors.Normalize(vmin=0, vmax=1)\n",
    "\n",
    "    # Map normalized densities to colors\n",
    "    colors_left = {region: mcolors.to_hex(cmap(norm(density))) for region, density in normalized_densities_left.items()}\n",
    "    colors_right = {region: mcolors.to_hex(cmap(norm(density))) for region, density in normalized_densities_right.items()}\n",
    "else:\n",
    "    colors_left = cell_density_data_left\n",
    "    colors_right = cell_density_data_right\n",
    "    rgb_colors_left = {region: cmap(density) for region, density in colors_left.items()}\n",
    "    rgb_colors_right = {region: cmap(density) for region, density in colors_right.items()}\n",
    "\n",
    "\n",
    "print(colors_left)\n",
    "print(colors_right)\n",
    "\n",
    "# Colors in rgb triplets\n",
    "#rgb_colors = {region: mcolors.to_rgb(cmap(norm(density))) for region, density in normalized_densities.items()}\n",
    "#print(rgb_colors)\n",
    "\n",
    "############################################\n",
    "### Change paramters for rendering\n",
    "\n",
    "# settings.SHADER_STYLE = \"plastic\"  # Options: 'plastic', 'metallic', 'shiny', 'matte'\n",
    "# settings.BACKGROUND_COLOR = \"black\"  # Any color name or RGB hex code\n",
    "# settings.ROOT_ALPHA = 0.4  # Value between 0 (fully transparent) and 1 (fully opaque)\n",
    "# settings.SHOW_AXES = False  # True or False\n",
    "# settings.SHOW_LEGEND = True  # True or False\n",
    "# settings.SHOW_SCALEBAR = True  # True or False\n",
    "\n",
    "#settings.WINDOW_SIZE = [800, 600]  # Width, Height in pixels\n",
    "#settings.CAMERA = {\n",
    "    #\"pos\": (0, 0, 0),\n",
    "    #\"viewup\": (0, -1, 0),\n",
    "    #\"clippingRange\": (2000, 10000),\n",
    "    #\"focalPoint\": (0, 0, 0),\n",
    "    #\"distance\": 5000 }\n",
    "\n",
    "#brainrender.reset_defaults()\n",
    "\n",
    "custom_camera = {\n",
    "    \"pos\": (0, 4000, -5700), #(x,up/doen,left/rught)\n",
    "    \"viewup\": (0, -1, 0),\n",
    "    \"clipping_range\": (2000, 10000)\n",
    "}\n",
    "\n",
    "############################################\n",
    "### render scene\n",
    "\n",
    "# Display the Allen Brain mouse atlas.\n",
    "scene = Scene(atlas_name=\"allen_mouse_50um\", title=\"Cells Density in differnt brain regions\",)\n",
    "\n",
    "# Create 2 differt scenes\n",
    "scene_left = Scene(atlas_name=\"allen_mouse_50um\", title=\"Cells Density in differnt brain regions\")\n",
    "scene_right = Scene(atlas_name=\"allen_mouse_50um\", title=\"Cells Density in differnt brain regions\")\n",
    "\n",
    "# Add each brain region with the corresponding color\n",
    "for region, color in colors_right.items():\n",
    "    scene_right.add_brain_region(region, alpha=1, color=color, hemisphere=\"right\")\n",
    "for region, color in colors_left.items():\n",
    "    scene_left.add_brain_region(region, alpha=1, color=color, hemisphere=\"left\")\n",
    "\n",
    "# Create a new Scene for integration\n",
    "new_scene = Scene(title=\"Combined Brain Visualization\")\n",
    "\n",
    "# Add the extracted brain actors to the new scene\n",
    "def extract_brain_actors(scene: Scene):\n",
    "    # Function to extract actors from the heatmap scene\n",
    "    return [actor for actor in scene.get_actors(br_class=\"brain region\")]\n",
    "for actor in extract_brain_actors(scene_left):\n",
    "    new_scene.add(actor)\n",
    "for actor in extract_brain_actors(scene_right):\n",
    "    new_scene.add(actor)\n",
    "\n",
    "# Render the new scene\n",
    "new_scene.render(camera=custom_camera)\n",
    "\n"
   ]
  },
  {
   "cell_type": "markdown",
   "metadata": {},
   "source": [
    "### Video with \"Animation\" in Brainrender - Frontal View"
   ]
  },
  {
   "cell_type": "code",
   "execution_count": null,
   "metadata": {},
   "outputs": [],
   "source": [
    "\n",
    "import os\n",
    "from brainrender import Scene, Animation\n",
    "import numpy as np\n",
    "import vedo\n",
    "vedo.settings.default_backend= 'vtk'\n",
    "\n",
    "\n",
    "# Function to extract brain actors\n",
    "def extract_brain_actors(scene: Scene):\n",
    "    # Function to extract actors from the heatmap scene\n",
    "    return [actor for actor in scene.get_actors(br_class=\"brain region\")]\n",
    "\n",
    "# Initialize the scene\n",
    "scene = new_scene\n",
    "\n",
    "# Define the custom camera position (replace with your desired position)\n",
    "custom_camera = {\n",
    "    \"pos\": (0, 4000, -5700), #(x,up/doen,left/rught)\n",
    "    \"viewup\": (0, -1, 0),\n",
    "    \"clipping_range\": (2000, 10000)\n",
    "}\n",
    "\n",
    "# Create the Animation instance\n",
    "anim = Animation(scene, \"/home/gabri/Downloads/temp\", \"brainrender_animation\", fmt=\"mp4\")\n",
    "\n",
    "# Define a custom callback function for slicing\n",
    "    # step = 100\n",
    "    # inzitl x offset = -100\n",
    "def slicing_callback(scene, frame_number, total_frames, **kwargs):\n",
    "    x_cut = 3000 + frame_number * 200  # Starting at 5000, incrementing by 100 per frame\n",
    "    plane = scene.atlas.get_plane(pos=(x_cut, 0, 0), norm=(1, 0, 0))\n",
    "    scene.slice(plane, actors=extract_brain_actors(scene))\n",
    "    return custom_camera\n",
    "\n",
    "# Add keyframes with the slicing callback\n",
    "total_duration = 4  # seconds\n",
    "fps = 10\n",
    "num_frames = total_duration * fps\n",
    "\n",
    "for i in range(num_frames):\n",
    "    time = i / fps  # Calculate the time in seconds for each frame\n",
    "    anim.add_keyframe(time, camera=custom_camera, callback=slicing_callback)\n",
    "\n",
    "# Make the video\n",
    "anim.make_video(duration=total_duration, fps=fps)\n"
   ]
  },
  {
   "cell_type": "markdown",
   "metadata": {},
   "source": [
    "### Video with \"VideoMaker\" in Brainrender - Lateral View"
   ]
  },
  {
   "cell_type": "code",
   "execution_count": null,
   "metadata": {},
   "outputs": [],
   "source": [
    "from brainrender.video import VideoMaker\n",
    "import vedo\n",
    "vedo.settings.default_backend= 'vtk'\n",
    "\n",
    "s = new_scene\n",
    "s.plotter.camera.position = (0, 4000, -5700)\n",
    "\n",
    "\n",
    "# Make a custom make frame function\n",
    "def make_frame(s, frame_number, *args, **kwargs):\n",
    "\n",
    "    x_cut = 100*frame_number\n",
    "    offset = 0\n",
    "\n",
    "    s.plotter.camera.position = (0, 4000, -5700)\n",
    "    #print(f\"Frame {frame_number}: Camera position: {s.plotter.camera.position}\")\n",
    "    #print(x_cut)\n",
    "    #print(s.camera)\n",
    "\n",
    "    plane = s.atlas.get_plane(pos=(x_cut + offset,0,0), norm=(1, 0, 0))\n",
    "    s.slice(plane, actors=extract_brain_actors(s))\n",
    "\n",
    "\n",
    "\n",
    "# Now make a video with our custom function\n",
    "vm = VideoMaker(s, \"/home/gabri/Downloads/temp\", \"vid1\", make_frame_func=make_frame)\n",
    "vm.make_video(duration=9, fps=15)\n",
    "\n"
   ]
  },
  {
   "cell_type": "markdown",
   "metadata": {},
   "source": [
    "## Difficult Way\n",
    "**ATTENTION**: To correctly execute this part of the process, you must modify the `render()` function in the `heatmap.py` script. This file is located in the `brainrender-env/lib/python3.9/site-packages/brainglobe_heatmap` directory of your virtual environment.\n",
    "\n",
    "For a visual guide on how to perform this modification, refer to the image below:\n",
    "\n",
    "<div style=\"text-align: center;\">\n",
    "    <img src=\"/home/gabri/Desktop/intership_neurorestore_pipeline/assets/images/modify_render_heatmap_script.png\" alt=\"Modify Render Function\" width=\"500\"/>\n",
    "</div>\n",
    "\n"
   ]
  },
  {
   "cell_type": "code",
   "execution_count": null,
   "metadata": {},
   "outputs": [
    {
     "name": "stdout",
     "output_type": "stream",
     "text": [
      "['mfb', 'VTN', 'VI', 'Su3', 'CUN', 'LDT', 'DR', 'MMd', 'PCG', 'AT', 'IF', 'LDT', 'PN', 'PIL', 'gVIIn', 'pm', 'DR', 'IF', 'Pa4', 'MMd']\n"
     ]
    }
   ],
   "source": [
    "# Firstly we have to decide which region to plot\n",
    "# We decide to take the first n_roi_displayed more dense independenly of left or right, and then take also the contalater part\n",
    "\n",
    "df = pd.read_csv(csv_file)\n",
    "\n",
    "df_sorted = df.sort_values(by='Cell Density', ascending=False)\n",
    "df_sorted_max = df_sorted.iloc[:n_roi_displayed, :] #take first elements\n",
    "\n",
    "name_max_regions = df_sorted_max[\"Region\"].to_list()\n",
    "\n",
    "print(name_max_regions)"
   ]
  },
  {
   "cell_type": "code",
   "execution_count": null,
   "metadata": {},
   "outputs": [
    {
     "name": "stdout",
     "output_type": "stream",
     "text": [
      "{'PIL': 0.0010510530237481, 'MMd': 0.0043683729796274, 'PN': 0.0041010451969356, 'Su3': 0.0014067335646628, 'CUN': 0.0011996284497383, 'Pa4': 0.0016606973821873, 'VTN': 0.0031474698141364, 'AT': 0.0034706583653464, 'IF': 0.0044176676238279, 'DR': 0.0044524537553373, 'PCG': 0.0038510489600164, 'LDT': 0.005768558867203, 'VI': 0.0036721884666247, 'gVIIn': 0.0016057782829507, 'mfb': 0.0011892146448107, 'pm': 0.003140800334088}\n",
      "{'PIL': 0.0049753925377404, 'MMd': 0.0059847232065516, 'PN': 0.0053520513039112, 'Su3': 0.0089835728952772, 'CUN': 0.0081535399534851, 'Pa4': 0.0043882222282417, 'VTN': 0.0097714100755452, 'AT': 0.0058738868149335, 'IF': 0.0058395932002866, 'DR': 0.0067155854201417, 'PCG': 0.0059275339849265, 'LDT': 0.0081345507042349, 'VI': 0.0091580076530203, 'gVIIn': 0.0048593157328602, 'mfb': 0.013460350991524, 'pm': 0.004469972303701}\n"
     ]
    }
   ],
   "source": [
    "#####################################\n",
    "### Necessary for running in jupyter\n",
    "import vedo\n",
    "vedo.settings.default_backend= 'vtk'\n",
    "\n",
    "#####################################\n",
    "### Prepare data to show --> 2 of them: one left, one right\n",
    "\n",
    "df = pd.read_csv(csv_file)\n",
    "# Take the ROI only from one side\n",
    "df = df[df[\"Side\"] == \"Left\"]\n",
    "# Take only first most dense regions\n",
    "df = df[df[\"Region\"].isin(name_max_regions)]\n",
    "# Only the ROI that are presnet in the atlas otherwise we will have errors\n",
    "df = df[df['Region'].isin(bg_atlas.lookup_df[\"acronym\"].to_list())] #take only regions that are in the atlas\n",
    "# Create the dictionary --> NB take the name withounf left or right\n",
    "cell_density_data = dict(zip(df['Region'], df['Cell Density']))\n",
    "cell_density_data_left = cell_density_data\n",
    "\n",
    "df = pd.read_csv(csv_file)\n",
    "# Take the ROI only from one side\n",
    "df = df[df[\"Side\"] == \"Right\"]\n",
    "# Take only first most dense regions\n",
    "df = df[df[\"Region\"].isin(name_max_regions)]\n",
    "# Only the ROI that are presnet in the atlas otherwise we will have errors\n",
    "df = df[df['Region'].isin(bg_atlas.lookup_df[\"acronym\"].to_list())] #take only regions that are in the atlas\n",
    "# Create the dictionary --> NB take the name withounf left or right\n",
    "cell_density_data = dict(zip(df['Region'], df['Cell Density']))\n",
    "cell_density_data_right = cell_density_data\n",
    "\n",
    "print(cell_density_data_left)\n",
    "print(cell_density_data_right)\n",
    "\n",
    "\n",
    "#####################################\n",
    "### prepare 2 actors\n",
    "\n",
    "sagittal_middle = 5700\n",
    "\n",
    "left_hm = bgh.Heatmap(\n",
    "    cell_density_data_left,\n",
    "    position=(\n",
    "        sagittal_middle #None is centered in the brain\n",
    "    ),\n",
    "    orientation=\"sagittal\",  # 'frontal' or 'sagittal', or 'horizontal' or a tuple (x,y,z)\n",
    "    title=\"sagittal left\",\n",
    "    vmin=0,\n",
    "    vmax=0.01,\n",
    "    cmap='Reds',\n",
    "    format=\"3D\",\n",
    "    thickness = 10000 # in order to see every region\n",
    ")\n",
    "\n",
    "right_hm = bgh.Heatmap(\n",
    "    cell_density_data_right,\n",
    "    position=(\n",
    "        8000,\n",
    "        5000,\n",
    "        sagittal_middle\n",
    "    ),\n",
    "    orientation=(0,0,-1),  # 'frontal' or 'sagittal', or 'horizontal' or a tuple (x,y,z)\n",
    "        #NB to change the point of view using a tuple, tu MUST chnage the heatmpas.py inside the pacakce \"brainglobe_heatmap\"\n",
    "    title=\"sagittal right\",\n",
    "    vmin=0,\n",
    "    vmax=0.01,\n",
    "    cmap='Reds',\n",
    "    format=\"3D\",\n",
    "    thickness = 10000 # in order to see every region\n",
    ")\n",
    "\n",
    "scene_left = left_hm.show()\n",
    "scene_right = right_hm.show()\n",
    "\n",
    "def extract_brain_actors(scene: Scene):\n",
    "    # Function to extract actors from the heatmap scene\n",
    "    return [actor for actor in scene.get_actors(br_class=\"brain region\")]\n",
    "\n",
    "# Create a new Scene for integration\n",
    "new_scene = Scene(title=\"Combined Brain Visualization\")\n",
    "\n",
    "# Add the extracted brain actors to the new scene\n",
    "for actor in extract_brain_actors(scene_left):\n",
    "    new_scene.add(actor)\n",
    "for actor in extract_brain_actors(scene_right):\n",
    "    new_scene.add(actor)\n",
    "\n",
    "# Render the new scene\n",
    "new_scene.render()\n",
    "\n",
    "\n",
    "\n"
   ]
  },
  {
   "cell_type": "markdown",
   "metadata": {},
   "source": [
    "## Check where yuo are cutting"
   ]
  },
  {
   "cell_type": "code",
   "execution_count": null,
   "metadata": {},
   "outputs": [
    {
     "data": {
      "text/html": [
       "<pre style=\"white-space:pre;overflow-x:auto;line-height:normal;font-family:Menlo,'DejaVu Sans Mono',consolas,'Courier New',monospace\"><span style=\"color: #1e88e5; text-decoration-color: #1e88e5\">╭─ </span><span style=\"color: #c0c0c0; text-decoration-color: #c0c0c0; font-weight: bold\">Plane 0</span><span style=\"color: #1e88e5; text-decoration-color: #1e88e5\"> ─────────────────────────────╮</span>\n",
       "<span style=\"color: #1e88e5; text-decoration-color: #1e88e5\">│ </span><span style=\"color: #1e88e5; text-decoration-color: #1e88e5; font-weight: bold\">                                     </span><span style=\"color: #1e88e5; text-decoration-color: #1e88e5\"> │</span>\n",
       "<span style=\"color: #1e88e5; text-decoration-color: #1e88e5\">│ </span><span style=\"color: #ffa726; text-decoration-color: #ffa726; font-weight: bold\">  center point: </span><span style=\"color: #c0c0c0; text-decoration-color: #c0c0c0\"> (8000, 5000, -5700) </span><span style=\"color: #1e88e5; text-decoration-color: #1e88e5\"> │</span>\n",
       "<span style=\"color: #1e88e5; text-decoration-color: #1e88e5\">│ </span><span style=\"color: #ffa726; text-decoration-color: #ffa726; font-weight: bold\">          norm: </span><span style=\"color: #c0c0c0; text-decoration-color: #c0c0c0\"> (0.0, 0.0, -1.0)    </span><span style=\"color: #1e88e5; text-decoration-color: #1e88e5\"> │</span>\n",
       "<span style=\"color: #1e88e5; text-decoration-color: #1e88e5\">│ </span><span style=\"color: #ffa726; text-decoration-color: #ffa726; font-weight: bold\">             u: </span><span style=\"color: #c0c0c0; text-decoration-color: #c0c0c0\"> (-1.0, 0.0, 0.0)    </span><span style=\"color: #1e88e5; text-decoration-color: #1e88e5\"> │</span>\n",
       "<span style=\"color: #1e88e5; text-decoration-color: #1e88e5\">│ </span><span style=\"color: #ffa726; text-decoration-color: #ffa726; font-weight: bold\">             v: </span><span style=\"color: #c0c0c0; text-decoration-color: #c0c0c0\"> (0.0, 1.0, 0.0)     </span><span style=\"color: #1e88e5; text-decoration-color: #1e88e5\"> │</span>\n",
       "<span style=\"color: #1e88e5; text-decoration-color: #1e88e5\">╰───────────────────────────────────────╯</span>\n",
       "</pre>\n"
      ],
      "text/plain": [
       "\u001b[38;2;30;136;229m╭─\u001b[0m\u001b[38;2;30;136;229m \u001b[0m\u001b[1;37mPlane 0\u001b[0m\u001b[38;2;30;136;229m \u001b[0m\u001b[38;2;30;136;229m────────────────────────────\u001b[0m\u001b[38;2;30;136;229m─╮\u001b[0m\n",
       "\u001b[38;2;30;136;229m│\u001b[0m\u001b[38;2;30;136;229m \u001b[0m\u001b[1;38;2;30;136;229m \u001b[0m\u001b[1;38;2;30;136;229m              \u001b[0m\u001b[1;38;2;30;136;229m \u001b[0m\u001b[1;38;2;30;136;229m \u001b[0m\u001b[1;38;2;30;136;229m                   \u001b[0m\u001b[1;38;2;30;136;229m \u001b[0m\u001b[38;2;30;136;229m \u001b[0m\u001b[38;2;30;136;229m│\u001b[0m\n",
       "\u001b[38;2;30;136;229m│\u001b[0m\u001b[38;2;30;136;229m \u001b[0m\u001b[1;38;2;255;167;38m \u001b[0m\u001b[1;38;2;255;167;38m center point:\u001b[0m\u001b[1;38;2;255;167;38m \u001b[0m\u001b[37m \u001b[0m\u001b[37m(8000, 5000, -5700)\u001b[0m\u001b[37m \u001b[0m\u001b[38;2;30;136;229m \u001b[0m\u001b[38;2;30;136;229m│\u001b[0m\n",
       "\u001b[38;2;30;136;229m│\u001b[0m\u001b[38;2;30;136;229m \u001b[0m\u001b[1;38;2;255;167;38m \u001b[0m\u001b[1;38;2;255;167;38m         norm:\u001b[0m\u001b[1;38;2;255;167;38m \u001b[0m\u001b[37m \u001b[0m\u001b[37m(0.0, 0.0, -1.0)   \u001b[0m\u001b[37m \u001b[0m\u001b[38;2;30;136;229m \u001b[0m\u001b[38;2;30;136;229m│\u001b[0m\n",
       "\u001b[38;2;30;136;229m│\u001b[0m\u001b[38;2;30;136;229m \u001b[0m\u001b[1;38;2;255;167;38m \u001b[0m\u001b[1;38;2;255;167;38m            u:\u001b[0m\u001b[1;38;2;255;167;38m \u001b[0m\u001b[37m \u001b[0m\u001b[37m(-1.0, 0.0, 0.0)   \u001b[0m\u001b[37m \u001b[0m\u001b[38;2;30;136;229m \u001b[0m\u001b[38;2;30;136;229m│\u001b[0m\n",
       "\u001b[38;2;30;136;229m│\u001b[0m\u001b[38;2;30;136;229m \u001b[0m\u001b[1;38;2;255;167;38m \u001b[0m\u001b[1;38;2;255;167;38m            v:\u001b[0m\u001b[1;38;2;255;167;38m \u001b[0m\u001b[37m \u001b[0m\u001b[37m(0.0, 1.0, 0.0)    \u001b[0m\u001b[37m \u001b[0m\u001b[38;2;30;136;229m \u001b[0m\u001b[38;2;30;136;229m│\u001b[0m\n",
       "\u001b[38;2;30;136;229m╰───────────────────────────────────────╯\u001b[0m\n"
      ]
     },
     "metadata": {},
     "output_type": "display_data"
    },
    {
     "data": {
      "text/html": [
       "<pre style=\"white-space:pre;overflow-x:auto;line-height:normal;font-family:Menlo,'DejaVu Sans Mono',consolas,'Courier New',monospace\"><span style=\"color: #d81b60; text-decoration-color: #d81b60\">╭─ </span><span style=\"color: #c0c0c0; text-decoration-color: #c0c0c0; font-weight: bold\">Plane 1</span><span style=\"color: #d81b60; text-decoration-color: #d81b60\"> ─────────────────────────────╮</span>\n",
       "<span style=\"color: #d81b60; text-decoration-color: #d81b60\">│ </span><span style=\"color: #d81b60; text-decoration-color: #d81b60; font-weight: bold\">                                     </span><span style=\"color: #d81b60; text-decoration-color: #d81b60\"> │</span>\n",
       "<span style=\"color: #d81b60; text-decoration-color: #d81b60\">│ </span><span style=\"color: #ffa726; text-decoration-color: #ffa726; font-weight: bold\">  center point: </span><span style=\"color: #c0c0c0; text-decoration-color: #c0c0c0\"> (8000, 5000, -7700) </span><span style=\"color: #d81b60; text-decoration-color: #d81b60\"> │</span>\n",
       "<span style=\"color: #d81b60; text-decoration-color: #d81b60\">│ </span><span style=\"color: #ffa726; text-decoration-color: #ffa726; font-weight: bold\">          norm: </span><span style=\"color: #c0c0c0; text-decoration-color: #c0c0c0\"> (0.0, 0.0, 1.0)     </span><span style=\"color: #d81b60; text-decoration-color: #d81b60\"> │</span>\n",
       "<span style=\"color: #d81b60; text-decoration-color: #d81b60\">│ </span><span style=\"color: #ffa726; text-decoration-color: #ffa726; font-weight: bold\">             u: </span><span style=\"color: #c0c0c0; text-decoration-color: #c0c0c0\"> (1.0, 0.0, 0.0)     </span><span style=\"color: #d81b60; text-decoration-color: #d81b60\"> │</span>\n",
       "<span style=\"color: #d81b60; text-decoration-color: #d81b60\">│ </span><span style=\"color: #ffa726; text-decoration-color: #ffa726; font-weight: bold\">             v: </span><span style=\"color: #c0c0c0; text-decoration-color: #c0c0c0\"> (0.0, 1.0, 0.0)     </span><span style=\"color: #d81b60; text-decoration-color: #d81b60\"> │</span>\n",
       "<span style=\"color: #d81b60; text-decoration-color: #d81b60\">╰───────────────────────────────────────╯</span>\n",
       "</pre>\n"
      ],
      "text/plain": [
       "\u001b[38;2;216;27;96m╭─\u001b[0m\u001b[38;2;216;27;96m \u001b[0m\u001b[1;37mPlane 1\u001b[0m\u001b[38;2;216;27;96m \u001b[0m\u001b[38;2;216;27;96m────────────────────────────\u001b[0m\u001b[38;2;216;27;96m─╮\u001b[0m\n",
       "\u001b[38;2;216;27;96m│\u001b[0m\u001b[38;2;216;27;96m \u001b[0m\u001b[1;38;2;216;27;96m \u001b[0m\u001b[1;38;2;216;27;96m              \u001b[0m\u001b[1;38;2;216;27;96m \u001b[0m\u001b[1;38;2;216;27;96m \u001b[0m\u001b[1;38;2;216;27;96m                   \u001b[0m\u001b[1;38;2;216;27;96m \u001b[0m\u001b[38;2;216;27;96m \u001b[0m\u001b[38;2;216;27;96m│\u001b[0m\n",
       "\u001b[38;2;216;27;96m│\u001b[0m\u001b[38;2;216;27;96m \u001b[0m\u001b[1;38;2;255;167;38m \u001b[0m\u001b[1;38;2;255;167;38m center point:\u001b[0m\u001b[1;38;2;255;167;38m \u001b[0m\u001b[37m \u001b[0m\u001b[37m(8000, 5000, -7700)\u001b[0m\u001b[37m \u001b[0m\u001b[38;2;216;27;96m \u001b[0m\u001b[38;2;216;27;96m│\u001b[0m\n",
       "\u001b[38;2;216;27;96m│\u001b[0m\u001b[38;2;216;27;96m \u001b[0m\u001b[1;38;2;255;167;38m \u001b[0m\u001b[1;38;2;255;167;38m         norm:\u001b[0m\u001b[1;38;2;255;167;38m \u001b[0m\u001b[37m \u001b[0m\u001b[37m(0.0, 0.0, 1.0)    \u001b[0m\u001b[37m \u001b[0m\u001b[38;2;216;27;96m \u001b[0m\u001b[38;2;216;27;96m│\u001b[0m\n",
       "\u001b[38;2;216;27;96m│\u001b[0m\u001b[38;2;216;27;96m \u001b[0m\u001b[1;38;2;255;167;38m \u001b[0m\u001b[1;38;2;255;167;38m            u:\u001b[0m\u001b[1;38;2;255;167;38m \u001b[0m\u001b[37m \u001b[0m\u001b[37m(1.0, 0.0, 0.0)    \u001b[0m\u001b[37m \u001b[0m\u001b[38;2;216;27;96m \u001b[0m\u001b[38;2;216;27;96m│\u001b[0m\n",
       "\u001b[38;2;216;27;96m│\u001b[0m\u001b[38;2;216;27;96m \u001b[0m\u001b[1;38;2;255;167;38m \u001b[0m\u001b[1;38;2;255;167;38m            v:\u001b[0m\u001b[1;38;2;255;167;38m \u001b[0m\u001b[37m \u001b[0m\u001b[37m(0.0, 1.0, 0.0)    \u001b[0m\u001b[37m \u001b[0m\u001b[38;2;216;27;96m \u001b[0m\u001b[38;2;216;27;96m│\u001b[0m\n",
       "\u001b[38;2;216;27;96m╰───────────────────────────────────────╯\u001b[0m\n"
      ]
     },
     "metadata": {},
     "output_type": "display_data"
    },
    {
     "data": {
      "text/html": [
       "<pre style=\"white-space:pre;overflow-x:auto;line-height:normal;font-family:Menlo,'DejaVu Sans Mono',consolas,'Courier New',monospace\"></pre>\n"
      ],
      "text/plain": []
     },
     "metadata": {},
     "output_type": "display_data"
    },
    {
     "data": {
      "text/plain": [
       "A `brainrender.scene.Scene` with \u001b[1;36m19\u001b[0m actors."
      ]
     },
     "execution_count": 16,
     "metadata": {},
     "output_type": "execute_result"
    }
   ],
   "source": [
    "\"\"\"\n",
    "    This example shows how to use the `plan` functionality to visualize the\n",
    "    position of the planes used to 'slice' the brain for heatmap visualization.\n",
    "\"\"\"\n",
    "\n",
    "import brainglobe_heatmap as bgh\n",
    "\n",
    "regions = [\n",
    "    \"TH\",\n",
    "    \"RSP\",\n",
    "    \"AI\",\n",
    "    \"SS\",\n",
    "    \"MO\",\n",
    "    \"PVZ\",\n",
    "    \"LZ\",\n",
    "    \"VIS\",\n",
    "    \"AUD\",\n",
    "    \"RHP\",\n",
    "    \"STR\",\n",
    "    \"CB\",\n",
    "    \"FRP\",\n",
    "    \"HIP\",\n",
    "    \"PA\",\n",
    "]\n",
    "\n",
    "\n",
    "planner = bgh.plan(\n",
    "    regions,\n",
    "    position=(\n",
    "        8000,\n",
    "        5000,\n",
    "        5700,\n",
    "    ),\n",
    "    orientation=(0,0,-1),  # or 'sagittal', or 'horizontal' or a tuple (x,y,z)\n",
    "    thickness=2000,  # thickness of the slices used for rendering (in microns)\n",
    "    arrow_scale=750,\n",
    ")\n",
    "planner.show()\n"
   ]
  },
  {
   "cell_type": "markdown",
   "metadata": {},
   "source": [
    "# Tests"
   ]
  },
  {
   "cell_type": "code",
   "execution_count": 3,
   "metadata": {},
   "outputs": [
    {
     "name": "stdout",
     "output_type": "stream",
     "text": [
      "{'pos': (-13934, -5041, 10160), 'focal_point': (9096, 3849, -5688), 'viewup': (0, -1, 0), 'distance': 29335, 'clipping_range': (14809, 47692)}\n",
      "{'pos': (0, 4000, -5700), 'focal_point': (9096, 3849, -5688), 'viewup': (0, -1, 0), 'distance': 9098, 'clipping_range': (2000, 10000)}\n",
      "{'pos': (0, 4000, -5700), 'focal_point': (9096, 3849, -5688), 'viewup': (0, -1, 0), 'distance': 9098, 'clipping_range': (2000, 10000)}\n",
      "{'pos': (0, 4000, -5700), 'focal_point': (9096, 3849, -5688), 'viewup': (0, -1, 0), 'distance': 9098, 'clipping_range': (2000, 10000)}\n"
     ]
    }
   ],
   "source": [
    "from brainrender import camera\n",
    "\n",
    "s= new_scene\n",
    "\n",
    "custom_camera = {\n",
    "    \"pos\": (0, 4000, -5700), #(x,up/doen,left/rught)\n",
    "    \"viewup\": (0, -1, 0),\n",
    "    \"clipping_range\": (2000, 10000)\n",
    "}\n",
    "\n",
    "print(camera.get_camera_params(s))\n",
    "camera.set_camera(s, custom_camera)\n",
    "print(camera.get_camera_params(s))\n",
    "\n",
    "plane = s.atlas.get_plane(pos=(5000,0,0), norm=(1, 0, 0))\n",
    "\n",
    "s.slice(plane, actors=extract_brain_actors(s))\n",
    "\n",
    "print(camera.get_camera_params(s))\n",
    "camera.set_camera(s, custom_camera)\n",
    "print(camera.get_camera_params(s))\n",
    "\n",
    "s.render(custom_camera)"
   ]
  },
  {
   "cell_type": "code",
   "execution_count": 5,
   "metadata": {},
   "outputs": [],
   "source": [
    "s = Scene()\n",
    "\n",
    "# Define custom camera settings (this is an example; adjust based on your needs)\n",
    "def custom_camera(scene):\n",
    "    # Example of setting a camera view, adjust parameters as needed\n",
    "    scene.camera.position = [100, 100, 100]  # Camera position in 3D space\n",
    "    scene.camera.focal_point = [0, 0, 0]  # Point the camera is looking at\n",
    "    scene.camera.up_vector = [0, 0, 1]  # Up direction for the came"
   ]
  }
 ],
 "metadata": {
  "kernelspec": {
   "display_name": "base",
   "language": "python",
   "name": "python3"
  },
  "language_info": {
   "codemirror_mode": {
    "name": "ipython",
    "version": 3
   },
   "file_extension": ".py",
   "mimetype": "text/x-python",
   "name": "python",
   "nbconvert_exporter": "python",
   "pygments_lexer": "ipython3",
   "version": "3.9.19"
  }
 },
 "nbformat": 4,
 "nbformat_minor": 2
}
